{
 "cells": [
  {
   "cell_type": "markdown",
   "metadata": {},
   "source": [
    "# Athritis on heart attack model"
   ]
  },
  {
   "cell_type": "code",
   "execution_count": 1,
   "metadata": {},
   "outputs": [],
   "source": [
    "import pandas as pd\n",
    "import seaborn as sns\n",
    "import numpy as np\n",
    "import matplotlib.pyplot as plt\n",
    "from sklearn.preprocessing import LabelEncoder\n",
    "from sklearn.preprocessing import MinMaxScaler\n",
    "from sklearn.metrics import accuracy_score, recall_score, f1_score, roc_auc_score, roc_curve, precision_score\n",
    "from collections import defaultdict"
   ]
  },
  {
   "cell_type": "code",
   "execution_count": 2,
   "metadata": {},
   "outputs": [
    {
     "name": "stdout",
     "output_type": "stream",
     "text": [
      "<class 'pandas.core.frame.DataFrame'>\n",
      "RangeIndex: 3788 entries, 0 to 3787\n",
      "Data columns (total 14 columns):\n",
      " #   Column             Non-Null Count  Dtype \n",
      "---  ------             --------------  ----- \n",
      " 0   arthritis.type     3788 non-null   object\n",
      " 1   gender             3788 non-null   object\n",
      " 2   bmi                3788 non-null   object\n",
      " 3   diabetes           3788 non-null   object\n",
      " 4   smoke              3788 non-null   object\n",
      " 5   age                3788 non-null   object\n",
      " 6   education          3788 non-null   object\n",
      " 7   marriage           3788 non-null   object\n",
      " 8   physical.activity  3788 non-null   object\n",
      " 9   medical.access     3788 non-null   object\n",
      " 10  blood.pressure     3788 non-null   object\n",
      " 11  healthy.diet       3788 non-null   object\n",
      " 12  covered.health     3788 non-null   object\n",
      " 13  heart.attack       3788 non-null   object\n",
      "dtypes: object(14)\n",
      "memory usage: 414.4+ KB\n"
     ]
    },
    {
     "data": {
      "text/html": [
       "<div>\n",
       "<style scoped>\n",
       "    .dataframe tbody tr th:only-of-type {\n",
       "        vertical-align: middle;\n",
       "    }\n",
       "\n",
       "    .dataframe tbody tr th {\n",
       "        vertical-align: top;\n",
       "    }\n",
       "\n",
       "    .dataframe thead th {\n",
       "        text-align: right;\n",
       "    }\n",
       "</style>\n",
       "<table border=\"1\" class=\"dataframe\">\n",
       "  <thead>\n",
       "    <tr style=\"text-align: right;\">\n",
       "      <th></th>\n",
       "      <th>arthritis.type</th>\n",
       "      <th>gender</th>\n",
       "      <th>bmi</th>\n",
       "      <th>diabetes</th>\n",
       "      <th>smoke</th>\n",
       "      <th>age</th>\n",
       "      <th>education</th>\n",
       "      <th>marriage</th>\n",
       "      <th>physical.activity</th>\n",
       "      <th>medical.access</th>\n",
       "      <th>blood.pressure</th>\n",
       "      <th>healthy.diet</th>\n",
       "      <th>covered.health</th>\n",
       "      <th>heart.attack</th>\n",
       "    </tr>\n",
       "  </thead>\n",
       "  <tbody>\n",
       "    <tr>\n",
       "      <th>0</th>\n",
       "      <td>Non-arthritis</td>\n",
       "      <td>Male</td>\n",
       "      <td>(25,80]</td>\n",
       "      <td>No</td>\n",
       "      <td>No</td>\n",
       "      <td>(50,70]</td>\n",
       "      <td>School</td>\n",
       "      <td>Married</td>\n",
       "      <td>Moderate</td>\n",
       "      <td>Yes</td>\n",
       "      <td>No</td>\n",
       "      <td>Fair</td>\n",
       "      <td>No</td>\n",
       "      <td>No</td>\n",
       "    </tr>\n",
       "    <tr>\n",
       "      <th>1</th>\n",
       "      <td>Non-arthritis</td>\n",
       "      <td>Male</td>\n",
       "      <td>(0,25]</td>\n",
       "      <td>No</td>\n",
       "      <td>No</td>\n",
       "      <td>(19.9,50]</td>\n",
       "      <td>High.School</td>\n",
       "      <td>Not.married</td>\n",
       "      <td>No</td>\n",
       "      <td>Yes</td>\n",
       "      <td>No</td>\n",
       "      <td>Good</td>\n",
       "      <td>No</td>\n",
       "      <td>No</td>\n",
       "    </tr>\n",
       "    <tr>\n",
       "      <th>2</th>\n",
       "      <td>Non-arthritis</td>\n",
       "      <td>Male</td>\n",
       "      <td>(25,80]</td>\n",
       "      <td>No</td>\n",
       "      <td>Yes</td>\n",
       "      <td>(50,70]</td>\n",
       "      <td>High.School</td>\n",
       "      <td>Married</td>\n",
       "      <td>No</td>\n",
       "      <td>Yes</td>\n",
       "      <td>Yes</td>\n",
       "      <td>Good</td>\n",
       "      <td>Yes</td>\n",
       "      <td>No</td>\n",
       "    </tr>\n",
       "    <tr>\n",
       "      <th>3</th>\n",
       "      <td>Rheumatoid arthritis</td>\n",
       "      <td>Male</td>\n",
       "      <td>(25,80]</td>\n",
       "      <td>Yes</td>\n",
       "      <td>No</td>\n",
       "      <td>(50,70]</td>\n",
       "      <td>College</td>\n",
       "      <td>Married</td>\n",
       "      <td>No</td>\n",
       "      <td>Yes</td>\n",
       "      <td>Yes</td>\n",
       "      <td>Poor</td>\n",
       "      <td>Yes</td>\n",
       "      <td>No</td>\n",
       "    </tr>\n",
       "    <tr>\n",
       "      <th>4</th>\n",
       "      <td>Non-arthritis</td>\n",
       "      <td>Female</td>\n",
       "      <td>(25,80]</td>\n",
       "      <td>No</td>\n",
       "      <td>No</td>\n",
       "      <td>(19.9,50]</td>\n",
       "      <td>High.School</td>\n",
       "      <td>Married</td>\n",
       "      <td>Moderate</td>\n",
       "      <td>No</td>\n",
       "      <td>No</td>\n",
       "      <td>Fair</td>\n",
       "      <td>No</td>\n",
       "      <td>No</td>\n",
       "    </tr>\n",
       "  </tbody>\n",
       "</table>\n",
       "</div>"
      ],
      "text/plain": [
       "         arthritis.type  gender      bmi diabetes smoke        age  \\\n",
       "0         Non-arthritis    Male  (25,80]       No    No    (50,70]   \n",
       "1         Non-arthritis    Male   (0,25]       No    No  (19.9,50]   \n",
       "2         Non-arthritis    Male  (25,80]       No   Yes    (50,70]   \n",
       "3  Rheumatoid arthritis    Male  (25,80]      Yes    No    (50,70]   \n",
       "4         Non-arthritis  Female  (25,80]       No    No  (19.9,50]   \n",
       "\n",
       "     education     marriage physical.activity medical.access blood.pressure  \\\n",
       "0       School      Married          Moderate            Yes             No   \n",
       "1  High.School  Not.married                No            Yes             No   \n",
       "2  High.School      Married                No            Yes            Yes   \n",
       "3      College      Married                No            Yes            Yes   \n",
       "4  High.School      Married          Moderate             No             No   \n",
       "\n",
       "  healthy.diet covered.health heart.attack  \n",
       "0         Fair             No           No  \n",
       "1         Good             No           No  \n",
       "2         Good            Yes           No  \n",
       "3         Poor            Yes           No  \n",
       "4         Fair             No           No  "
      ]
     },
     "execution_count": 2,
     "metadata": {},
     "output_type": "execute_result"
    }
   ],
   "source": [
    "# import data\n",
    "data = pd.read_csv(\"../data/Arthritis_on_heart_attack.csv\",usecols=range(1,15))\n",
    "\n",
    "# obtain an overview of the data\n",
    "data.info()\n",
    "data.describe()\n",
    "data.head()"
   ]
  },
  {
   "cell_type": "code",
   "execution_count": 3,
   "metadata": {},
   "outputs": [
    {
     "name": "stdout",
     "output_type": "stream",
     "text": [
      "arthritis.type  Non-arthritis  Rheumatoid arthritis\n",
      "heart.attack                                       \n",
      "No                       3454                   224\n",
      "Yes                        90                    20 \n",
      "\n",
      "gender        Female  Male\n",
      "heart.attack              \n",
      "No              1825  1853\n",
      "Yes               25    85 \n",
      "\n",
      "bmi           (0,25]  (25,80]\n",
      "heart.attack                 \n",
      "No              1152     2526\n",
      "Yes               24       86 \n",
      "\n",
      "diabetes        No  Yes\n",
      "heart.attack           \n",
      "No            3378  300\n",
      "Yes             84   26 \n",
      "\n",
      "smoke           No   Yes\n",
      "heart.attack            \n",
      "No            2073  1605\n",
      "Yes             31    79 \n",
      "\n",
      "age           (19.9,50]  (50,70]  (70,81]\n",
      "heart.attack                             \n",
      "No                 2316      982      380\n",
      "Yes                  24       39       47 \n",
      "\n",
      "education     College  High.School  School\n",
      "heart.attack                              \n",
      "No               1733         1541     404\n",
      "Yes                42           44      24 \n",
      "\n",
      "marriage      Married  Not.married\n",
      "heart.attack                      \n",
      "No               2213         1465\n",
      "Yes                64           46 \n",
      "\n",
      "physical.activity  High  Moderate    No\n",
      "heart.attack                           \n",
      "No                  780       834  2064\n",
      "Yes                  20        17    73 \n",
      "\n",
      "medical.access   No   Yes\n",
      "heart.attack             \n",
      "No              665  3013\n",
      "Yes               9   101 \n",
      "\n",
      "blood.pressure    No  Yes\n",
      "heart.attack             \n",
      "No              2697  981\n",
      "Yes               34   76 \n",
      "\n",
      "healthy.diet  Fair  Good  Poor\n",
      "heart.attack                  \n",
      "No             860  2614   204\n",
      "Yes             20    78    12 \n",
      "\n",
      "covered.health    No   Yes\n",
      "heart.attack              \n",
      "No              1045  2633\n",
      "Yes               14    96 \n",
      "\n",
      "heart.attack    No  Yes\n",
      "heart.attack           \n",
      "No            3678    0\n",
      "Yes              0  110 \n",
      "\n"
     ]
    }
   ],
   "source": [
    "# print frequency distributions crosstabs\n",
    "for col in data:\n",
    "    data_crosstab = pd.crosstab(data['heart.attack'],\n",
    "                            data[col], \n",
    "                               margins = False)\n",
    "    print(data_crosstab,\"\\n\")\n"
   ]
  },
  {
   "cell_type": "markdown",
   "metadata": {},
   "source": [
    "Die Gruppe der Personen mit Herzinfarkt ist sehr niedrig besetzt mit 110/3678=0.0299075, damit ist der Datensatz moderat bis sehr startk unausgeglichen. \n",
    "Dementsprechend kann es sinnvoll sein Methoden wie gewichtetes Sampling,threshhold-moving, oversampling, undersampling oder SMOTE zur Verbesserung der Model Performance anzuwenden.\n",
    "\n",
    "F1-Score ist ein sinnvoller Scorer für Modelle auf einen unausgeglichenen Datensatz. Da eine leistungsfähige Vorhersage der positiven Klasse 'heart.attack' von hoeherer Relevanz ist sollten hier F0.5-Score und PR AUC bzw. average_precision benutzt werden."
   ]
  },
  {
   "cell_type": "code",
   "execution_count": 4,
   "metadata": {},
   "outputs": [
    {
     "name": "stdout",
     "output_type": "stream",
     "text": [
      "['Non-arthritis' 'Rheumatoid arthritis']\n",
      "['Female' 'Male']\n",
      "['(0,25]' '(25,80]']\n",
      "['No' 'Yes']\n",
      "['No' 'Yes']\n",
      "['(19.9,50]' '(50,70]' '(70,81]']\n",
      "['College' 'High.School' 'School']\n",
      "['Married' 'Not.married']\n",
      "['High' 'Moderate' 'No']\n",
      "['No' 'Yes']\n",
      "['No' 'Yes']\n",
      "['Fair' 'Good' 'Poor']\n",
      "['No' 'Yes']\n",
      "['No' 'Yes']\n"
     ]
    },
    {
     "data": {
      "text/html": [
       "<div>\n",
       "<style scoped>\n",
       "    .dataframe tbody tr th:only-of-type {\n",
       "        vertical-align: middle;\n",
       "    }\n",
       "\n",
       "    .dataframe tbody tr th {\n",
       "        vertical-align: top;\n",
       "    }\n",
       "\n",
       "    .dataframe thead th {\n",
       "        text-align: right;\n",
       "    }\n",
       "</style>\n",
       "<table border=\"1\" class=\"dataframe\">\n",
       "  <thead>\n",
       "    <tr style=\"text-align: right;\">\n",
       "      <th></th>\n",
       "      <th>arthritis.type</th>\n",
       "      <th>gender</th>\n",
       "      <th>bmi</th>\n",
       "      <th>diabetes</th>\n",
       "      <th>smoke</th>\n",
       "      <th>age</th>\n",
       "      <th>education</th>\n",
       "      <th>marriage</th>\n",
       "      <th>physical.activity</th>\n",
       "      <th>medical.access</th>\n",
       "      <th>blood.pressure</th>\n",
       "      <th>healthy.diet</th>\n",
       "      <th>covered.health</th>\n",
       "      <th>heart.attack</th>\n",
       "    </tr>\n",
       "  </thead>\n",
       "  <tbody>\n",
       "    <tr>\n",
       "      <th>0</th>\n",
       "      <td>0</td>\n",
       "      <td>1</td>\n",
       "      <td>1</td>\n",
       "      <td>0</td>\n",
       "      <td>0</td>\n",
       "      <td>1</td>\n",
       "      <td>2</td>\n",
       "      <td>0</td>\n",
       "      <td>1</td>\n",
       "      <td>1</td>\n",
       "      <td>0</td>\n",
       "      <td>1</td>\n",
       "      <td>0</td>\n",
       "      <td>0</td>\n",
       "    </tr>\n",
       "    <tr>\n",
       "      <th>1</th>\n",
       "      <td>0</td>\n",
       "      <td>1</td>\n",
       "      <td>0</td>\n",
       "      <td>0</td>\n",
       "      <td>0</td>\n",
       "      <td>0</td>\n",
       "      <td>1</td>\n",
       "      <td>1</td>\n",
       "      <td>2</td>\n",
       "      <td>1</td>\n",
       "      <td>0</td>\n",
       "      <td>0</td>\n",
       "      <td>0</td>\n",
       "      <td>0</td>\n",
       "    </tr>\n",
       "    <tr>\n",
       "      <th>2</th>\n",
       "      <td>0</td>\n",
       "      <td>1</td>\n",
       "      <td>1</td>\n",
       "      <td>0</td>\n",
       "      <td>1</td>\n",
       "      <td>1</td>\n",
       "      <td>1</td>\n",
       "      <td>0</td>\n",
       "      <td>2</td>\n",
       "      <td>1</td>\n",
       "      <td>1</td>\n",
       "      <td>0</td>\n",
       "      <td>1</td>\n",
       "      <td>0</td>\n",
       "    </tr>\n",
       "    <tr>\n",
       "      <th>3</th>\n",
       "      <td>1</td>\n",
       "      <td>1</td>\n",
       "      <td>1</td>\n",
       "      <td>1</td>\n",
       "      <td>0</td>\n",
       "      <td>1</td>\n",
       "      <td>0</td>\n",
       "      <td>0</td>\n",
       "      <td>2</td>\n",
       "      <td>1</td>\n",
       "      <td>1</td>\n",
       "      <td>2</td>\n",
       "      <td>1</td>\n",
       "      <td>0</td>\n",
       "    </tr>\n",
       "    <tr>\n",
       "      <th>4</th>\n",
       "      <td>0</td>\n",
       "      <td>0</td>\n",
       "      <td>1</td>\n",
       "      <td>0</td>\n",
       "      <td>0</td>\n",
       "      <td>0</td>\n",
       "      <td>1</td>\n",
       "      <td>0</td>\n",
       "      <td>1</td>\n",
       "      <td>0</td>\n",
       "      <td>0</td>\n",
       "      <td>1</td>\n",
       "      <td>0</td>\n",
       "      <td>0</td>\n",
       "    </tr>\n",
       "  </tbody>\n",
       "</table>\n",
       "</div>"
      ],
      "text/plain": [
       "   arthritis.type  gender  bmi  diabetes  smoke  age  education  marriage  \\\n",
       "0               0       1    1         0      0    1          2         0   \n",
       "1               0       1    0         0      0    0          1         1   \n",
       "2               0       1    1         0      1    1          1         0   \n",
       "3               1       1    1         1      0    1          0         0   \n",
       "4               0       0    1         0      0    0          1         0   \n",
       "\n",
       "   physical.activity  medical.access  blood.pressure  healthy.diet  \\\n",
       "0                  1               1               0             1   \n",
       "1                  2               1               0             0   \n",
       "2                  2               1               1             0   \n",
       "3                  2               1               1             2   \n",
       "4                  1               0               0             1   \n",
       "\n",
       "   covered.health  heart.attack  \n",
       "0               0             0  \n",
       "1               0             0  \n",
       "2               1             0  \n",
       "3               1             0  \n",
       "4               0             0  "
      ]
     },
     "execution_count": 4,
     "metadata": {},
     "output_type": "execute_result"
    }
   ],
   "source": [
    "# encode categorical data for modeling\n",
    "label_dict = defaultdict(LabelEncoder)\n",
    "data.apply(lambda x: label_dict[x.name].fit_transform(x))\n",
    "\n",
    "for i in label_dict:\n",
    "    print(label_dict[i].classes_)\n",
    "    \n",
    "# manually setting encoder for healthy.diet for a more reasonable order\n",
    "label_dict['healthy.diet'].classes_ = ['Good', 'Fair', 'Poor']\n",
    "\n",
    "# non-binary categories exhibit natural order and are therefore encoded ordinaly \n",
    "encoded_data = data.apply(lambda x: label_dict[x.name].transform(x))\n",
    "encoded_data.head()"
   ]
  },
  {
   "cell_type": "code",
   "execution_count": 5,
   "metadata": {},
   "outputs": [
    {
     "data": {
      "text/plain": [
       "(array([2.42425701e+01, 1.50973112e+01, 1.39884606e+00, 2.97382272e+01,\n",
       "        1.90789571e+01, 1.16714793e+02, 6.47822113e+00, 1.05688353e-01,\n",
       "        1.39044315e+00, 1.27303002e+00, 6.88725679e+01, 9.41227337e-01,\n",
       "        3.64724397e+00]),\n",
       " array([8.49340896e-07, 1.02108622e-04, 2.36916873e-01, 4.94500196e-08,\n",
       "        1.25420175e-05, 3.31464790e-27, 1.09204222e-02, 7.45107318e-01,\n",
       "        2.38330276e-01, 2.59199018e-01, 1.05035733e-16, 3.31962402e-01,\n",
       "        5.61620742e-02]))"
      ]
     },
     "execution_count": 5,
     "metadata": {},
     "output_type": "execute_result"
    }
   ],
   "source": [
    "from sklearn.feature_selection import chi2\n",
    "\n",
    "chi2(encoded_data.loc[:, encoded_data.columns != 'heart.attack'],encoded_data[['heart.attack']])"
   ]
  },
  {
   "cell_type": "markdown",
   "metadata": {},
   "source": [
    "Zum testen der Abhaengigkeit zwischen kategorischen Variablen kann der Chi-Quadrat-Test angewandt, Merkmalsinteraktionen werden bei diesem Test ignoriert. Wenn man beim p-Wert von einem Signifikanzniveau von 0.05 ausgeht, wuerde man sich fuer die Variablen 'athritis.type', 'gender', 'diabetes', 'smoke', 'age', 'education', 'blood.pressure'. \n",
    "\n",
    "Daraus kann man schließen, dass die gegebenen Merkmale geeignet sind um einen Herzinfarkt zu prognostizieren."
   ]
  },
  {
   "cell_type": "code",
   "execution_count": 6,
   "metadata": {},
   "outputs": [],
   "source": [
    "from sklearn.model_selection import train_test_split\n",
    "from sklearn.metrics import classification_report\n",
    "\n",
    "y = encoded_data['heart.attack']\n",
    "X = encoded_data.drop('heart.attack',axis=1)\n",
    "\n",
    "# stratified train test split over heart.attack \n",
    "X_train, X_test, y_train, y_test = train_test_split(X, y, test_size=0.2,stratify=y)"
   ]
  },
  {
   "cell_type": "markdown",
   "metadata": {},
   "source": [
    "Zunaechst wird ein logistisches Regressionsmodell genutzt, weil es für binäre Klassifizierung geeignet ist und in der Lage ist durch eine interne Gewichtung ein relativ gutes Model auf dem unausgeglichenen Daten zu generieren. Durch den l1-Regulator werden Koeffizienten von nicht-relevanten Merkmalen gegen Null reduziert und der l2-Regulator verminder overfitting."
   ]
  },
  {
   "cell_type": "code",
   "execution_count": 102,
   "metadata": {},
   "outputs": [
    {
     "name": "stdout",
     "output_type": "stream",
     "text": [
      "Score: 0.098\n"
     ]
    }
   ],
   "source": [
    "from sklearn.linear_model import LogisticRegression\n",
    "from sklearn.metrics import classification_report, confusion_matrix\n",
    "from sklearn.model_selection import KFold\n",
    "from sklearn.model_selection import cross_val_score\n",
    "from numpy import mean\n",
    "from numpy import std\n",
    "from sklearn.metrics import fbeta_score, make_scorer\n",
    "f05_scorer = make_scorer(fbeta_score, beta=0.5)\n",
    "\n",
    "scorer = f05_scorer\n",
    "# create model\n",
    "lr_balanced = LogisticRegression(class_weight='balanced')\n",
    "\n",
    "scores = cross_val_score(lr_balanced, X_train, y_train, scoring=scorer, cv=5, n_jobs=1)\n",
    "print('F0.5-Score: %.3f' % (mean(scores)))"
   ]
  },
  {
   "cell_type": "code",
   "execution_count": 218,
   "metadata": {},
   "outputs": [
    {
     "data": {
      "text/plain": [
       "make_scorer(fbeta_score, beta=0.5)"
      ]
     },
     "execution_count": 218,
     "metadata": {},
     "output_type": "execute_result"
    }
   ],
   "source": [
    "f05_scorer"
   ]
  },
  {
   "cell_type": "code",
   "execution_count": 165,
   "metadata": {},
   "outputs": [
    {
     "name": "stdout",
     "output_type": "stream",
     "text": [
      "Fitting 5 folds for each of 200 candidates, totalling 1000 fits\n",
      "Best score:  0.24339024580205876\n"
     ]
    },
    {
     "data": {
      "image/png": "[encoded data removed]",
      "text/plain": [
       "<Figure size 576x432 with 1 Axes>"
      ]
     },
     "metadata": {},
     "output_type": "display_data"
    }
   ],
   "source": [
    "from sklearn.model_selection import GridSearchCV, StratifiedKFold\n",
    "\n",
    "lr = LogisticRegression()\n",
    "# Setting the range for class weights\n",
    "weights = np.linspace(0.0,0.99,200)\n",
    "# Creating a dictionary grid for grid search\n",
    "param_grid = {'class_weight': [{0:x, 1:1.0-x} for x in weights]}\n",
    "\n",
    "# Fitting grid search to the train data with 5 folds\n",
    "lr_weight_gridsearch = GridSearchCV(estimator= lr, \n",
    "                          param_grid= param_grid,\n",
    "                          cv=StratifiedKFold(), \n",
    "                          n_jobs=-1, \n",
    "                          scoring=scorer, \n",
    "                          verbose=2).fit(X_train, y_train)\n",
    "                          # Ploting the score for different values of weight\n",
    "                          \n",
    "sns.set_style('whitegrid')\n",
    "plt.figure(figsize=(8,6))\n",
    "weigh_data = pd.DataFrame({ 'score': lr_weight_gridsearch.cv_results_['mean_test_score'], 'weight': (1- weights)})\n",
    "sns.lineplot(x=weigh_data['weight'],y= weigh_data['score'])\n",
    "plt.xlabel('Weight for class 1')\n",
    "plt.ylabel('Score')\n",
    "plt.xticks(np.linspace(0,1,11))\n",
    "plt.title('Scoring for different class weights', fontsize=20)\n",
    "\n",
    "lr_weighted = lr_weight_gridsearch.best_estimator_\n",
    "\n",
    "print('Best F0.5-Score score: ', lr_weight_gridsearch.best_score_)"
   ]
  },
  {
   "cell_type": "code",
   "execution_count": 183,
   "metadata": {},
   "outputs": [
    {
     "name": "stdout",
     "output_type": "stream",
     "text": [
      "Fitting 5 folds for each of 279 candidates, totalling 1395 fits\n"
     ]
    }
   ],
   "source": [
    "\n",
    "regulizer_param_grid = {'C' : (np.arange(0.7,1,0.01)),\n",
    "            'l1_ratio': [0,0.5,0.6,0.7,0.8,0.9,0.99,1,0.9999]}\n",
    "\n",
    "lr_regulizer_gridsearch = GridSearchCV(estimator= lr_weighted.set_params(solver='saga',penalty='elasticnet'), \n",
    "                          param_grid= regulizer_param_grid,\n",
    "                          cv=StratifiedKFold(), \n",
    "                          n_jobs=-1, \n",
    "                          scoring=scorer, \n",
    "                          verbose=2).fit(X_train, y_train)"
   ]
  },
  {
   "cell_type": "code",
   "execution_count": 189,
   "metadata": {},
   "outputs": [
    {
     "name": "stdout",
     "output_type": "stream",
     "text": [
      "[[0.42579421 1.02201744 0.12580956 0.39637712 0.71863015 0.8901837\n",
      "  0.09972789 0.10668788 0.         0.         1.1353409  0.13916151\n",
      "  0.10961992]]\n",
      "              precision    recall  f1-score   support\n",
      "\n",
      "           0       0.98      0.99      0.98       736\n",
      "           1       0.27      0.18      0.22        22\n",
      "\n",
      "    accuracy                           0.96       758\n",
      "   macro avg       0.62      0.58      0.60       758\n",
      "weighted avg       0.96      0.96      0.96       758\n",
      "\n"
     ]
    },
    {
     "data": {
      "text/html": [
       "<div>\n",
       "<style scoped>\n",
       "    .dataframe tbody tr th:only-of-type {\n",
       "        vertical-align: middle;\n",
       "    }\n",
       "\n",
       "    .dataframe tbody tr th {\n",
       "        vertical-align: top;\n",
       "    }\n",
       "\n",
       "    .dataframe thead th {\n",
       "        text-align: right;\n",
       "    }\n",
       "</style>\n",
       "<table border=\"1\" class=\"dataframe\">\n",
       "  <thead>\n",
       "    <tr style=\"text-align: right;\">\n",
       "      <th>col_0</th>\n",
       "      <th>0</th>\n",
       "      <th>1</th>\n",
       "    </tr>\n",
       "    <tr>\n",
       "      <th>heart.attack</th>\n",
       "      <th></th>\n",
       "      <th></th>\n",
       "    </tr>\n",
       "  </thead>\n",
       "  <tbody>\n",
       "    <tr>\n",
       "      <th>0</th>\n",
       "      <td>725</td>\n",
       "      <td>11</td>\n",
       "    </tr>\n",
       "    <tr>\n",
       "      <th>1</th>\n",
       "      <td>18</td>\n",
       "      <td>4</td>\n",
       "    </tr>\n",
       "  </tbody>\n",
       "</table>\n",
       "</div>"
      ],
      "text/plain": [
       "col_0           0   1\n",
       "heart.attack         \n",
       "0             725  11\n",
       "1              18   4"
      ]
     },
     "execution_count": 189,
     "metadata": {},
     "output_type": "execute_result"
    }
   ],
   "source": [
    "# get final logistical regression model\n",
    "lr_model = lr_regulizer_gridsearch.best_estimator_\n",
    "lr_model.fit(X_train,y_train)\n",
    "\n",
    "print(lr_model.coef_)\n",
    "\n",
    "y_pred = lr_model.predict(X_test)\n",
    "print(classification_report(y_test, y_pred))\n",
    "pd.crosstab(y_test,y_pred)"
   ]
  },
  {
   "cell_type": "code",
   "execution_count": 186,
   "metadata": {},
   "outputs": [
    {
     "name": "stdout",
     "output_type": "stream",
     "text": [
      "PR-AUC : 0.152\n",
      "Best Threshold=0.353207, F-Score=0.303\n"
     ]
    },
    {
     "name": "stderr",
     "output_type": "stream",
     "text": [
      "c:\\Users\\David\\Documents\\Bullshit_Jobs\\2021NovemberNachBsc\\angenommen\\Ingef\\PropensityScoreMatching\\env\\lib\\site-packages\\ipykernel_launcher.py:13: RuntimeWarning: invalid value encountered in true_divide\n",
      "  del sys.path[0]\n"
     ]
    },
    {
     "data": {
      "text/plain": [
       "<matplotlib.collections.PathCollection at 0x229c5f9b6c8>"
      ]
     },
     "execution_count": 186,
     "metadata": {},
     "output_type": "execute_result"
    },
    {
     "data": {
      "image/png": "[encoded data removed]",
      "text/plain": [
       "<Figure size 432x288 with 1 Axes>"
      ]
     },
     "metadata": {},
     "output_type": "display_data"
    }
   ],
   "source": [
    "# get prediction probabilities for scoring\n",
    "pos_proba = lr_model.predict_proba(X_test)[:,1]\n",
    "\n",
    "from sklearn.metrics import precision_recall_curve, auc\n",
    "\n",
    "precision, recall, thresholds = precision_recall_curve(y_test, pos_proba)\n",
    "\n",
    "auc_precision_recall = auc(recall, precision)\n",
    "\n",
    "print('PR-AUC : %.3f' % (auc_precision_recall))\n",
    "\n",
    "# optimize threshold\n",
    "fscore = (2 * precision * recall) / (precision + recall)\n",
    "idx = np.nanargmax(fscore)\n",
    "\n",
    "print('Best Threshold=%f, F-Score=%.3f' % (thresholds[idx], fscore[idx]))\n",
    "\n",
    "plt.plot(recall, precision, marker='.', label='Logistic')\n",
    "plt.xlabel('Recall')\n",
    "plt.ylabel('Precision')\n",
    "plt.scatter(recall[idx], precision[idx], marker='o', color='black', label='Best')"
   ]
  },
  {
   "cell_type": "code",
   "execution_count": 194,
   "metadata": {},
   "outputs": [
    {
     "name": "stdout",
     "output_type": "stream",
     "text": [
      "              precision    recall  f1-score   support\n",
      "\n",
      "           0       0.98      0.95      0.97       736\n",
      "           1       0.21      0.41      0.28        22\n",
      "\n",
      "    accuracy                           0.94       758\n",
      "   macro avg       0.60      0.68      0.62       758\n",
      "weighted avg       0.96      0.94      0.95       758\n",
      "\n"
     ]
    },
    {
     "data": {
      "text/html": [
       "<div>\n",
       "<style scoped>\n",
       "    .dataframe tbody tr th:only-of-type {\n",
       "        vertical-align: middle;\n",
       "    }\n",
       "\n",
       "    .dataframe tbody tr th {\n",
       "        vertical-align: top;\n",
       "    }\n",
       "\n",
       "    .dataframe thead th {\n",
       "        text-align: right;\n",
       "    }\n",
       "</style>\n",
       "<table border=\"1\" class=\"dataframe\">\n",
       "  <thead>\n",
       "    <tr style=\"text-align: right;\">\n",
       "      <th>col_0</th>\n",
       "      <th>False</th>\n",
       "      <th>True</th>\n",
       "    </tr>\n",
       "    <tr>\n",
       "      <th>heart.attack</th>\n",
       "      <th></th>\n",
       "      <th></th>\n",
       "    </tr>\n",
       "  </thead>\n",
       "  <tbody>\n",
       "    <tr>\n",
       "      <th>0</th>\n",
       "      <td>702</td>\n",
       "      <td>34</td>\n",
       "    </tr>\n",
       "    <tr>\n",
       "      <th>1</th>\n",
       "      <td>13</td>\n",
       "      <td>9</td>\n",
       "    </tr>\n",
       "  </tbody>\n",
       "</table>\n",
       "</div>"
      ],
      "text/plain": [
       "col_0         False  True\n",
       "heart.attack             \n",
       "0               702    34\n",
       "1                13     9"
      ]
     },
     "execution_count": 194,
     "metadata": {},
     "output_type": "execute_result"
    }
   ],
   "source": [
    "y_pred_thresh = (lr_model.predict_proba(X_test)[:,1]>0.353207).astype(bool)\n",
    "print(classification_report(y_test,y_pred_thresh))\n",
    "pd.crosstab(y_test,y_pred_thresh)"
   ]
  },
  {
   "cell_type": "code",
   "execution_count": 206,
   "metadata": {},
   "outputs": [
    {
     "name": "stdout",
     "output_type": "stream",
     "text": [
      "Score: 0.099 (0.024)\n"
     ]
    }
   ],
   "source": [
    "from sklearn import svm\n",
    "\n",
    "\n",
    "min_max_scaler = MinMaxScaler()\n",
    "X_train_minmax = min_max_scaler.fit_transform(encoded_data)\n",
    "\n",
    "svc = svm.SVC(gamma='scale',class_weight='balanced')\n",
    "scores = cross_val_score(svc, X_train, y_train, scoring=scorer, cv=10, n_jobs=1)\n",
    "print('F0.5-Score : %.3f (%.3f)' % (mean(scores), std(scores)))\n",
    "\n"
   ]
  },
  {
   "cell_type": "code",
   "execution_count": 214,
   "metadata": {},
   "outputs": [
    {
     "data": {
      "text/plain": [
       "GridSearchCV(cv=RepeatedStratifiedKFold(n_repeats=3, n_splits=10, random_state=1),\n",
       "             estimator=SVC(), n_jobs=-1,\n",
       "             param_grid={'class_weight': [{0: 0.0, 1: 1.0},\n",
       "                                          {0: 0.004974874371859297,\n",
       "                                           1: 0.9950251256281407},\n",
       "                                          {0: 0.009949748743718593,\n",
       "                                           1: 0.9900502512562814},\n",
       "                                          {0: 0.014924623115577889,\n",
       "                                           1: 0.9850753768844221},\n",
       "                                          {0: 0.019899497487437186,\n",
       "                                           1: 0.9801005025125629},\n",
       "                                          {0: 0.0248743718592...\n",
       "                                          {0: 0.11442211055276383,\n",
       "                                           1: 0.8855778894472361},\n",
       "                                          {0: 0.11939698492462311,\n",
       "                                           1: 0.8806030150753769},\n",
       "                                          {0: 0.12437185929648241,\n",
       "                                           1: 0.8756281407035176},\n",
       "                                          {0: 0.1293467336683417,\n",
       "                                           1: 0.8706532663316583},\n",
       "                                          {0: 0.13432160804020102,\n",
       "                                           1: 0.865678391959799},\n",
       "                                          {0: 0.1392964824120603,\n",
       "                                           1: 0.8607035175879397},\n",
       "                                          {0: 0.1442713567839196,\n",
       "                                           1: 0.8557286432160804}, ...]},\n",
       "             scoring=make_scorer(fbeta_score, beta=0.5))"
      ]
     },
     "execution_count": 214,
     "metadata": {},
     "output_type": "execute_result"
    }
   ],
   "source": [
    "# Setting the range for class weights\n",
    "weights = np.linspace(0.0,0.99,20)\n",
    "# Creating a dictionary grid for grid search\n",
    "param_grid = {'class_weight': [{0:x, 1:1.0-x} for x in weights]}\n",
    "\n",
    "cv = RepeatedStratifiedKFold(n_splits=10, n_repeats=3, random_state=1)\n",
    "# define grid search\n",
    "grid = GridSearchCV(estimator=svm.SVC(gamma='scale'), param_grid=param_grid, n_jobs=-1, cv=cv, scoring=scorer)\n",
    "\n",
    "grid.fit(X_train,y_train)"
   ]
  },
  {
   "cell_type": "code",
   "execution_count": 213,
   "metadata": {},
   "outputs": [
    {
     "data": {
      "text/plain": [
       "SVC(class_weight={0: 0.11442211055276383, 1: 0.8855778894472361})"
      ]
     },
     "execution_count": 213,
     "metadata": {},
     "output_type": "execute_result"
    }
   ],
   "source": [
    "grid.best_estimator_"
   ]
  },
  {
   "cell_type": "code",
   "execution_count": 211,
   "metadata": {},
   "outputs": [
    {
     "name": "stdout",
     "output_type": "stream",
     "text": [
      "Score: 0.018 (0.067)\n"
     ]
    }
   ],
   "source": [
    "\n",
    "from sklearn.ensemble import RandomForestClassifier\n",
    "from sklearn.model_selection import RepeatedStratifiedKFold \n",
    "\n",
    "rf_model = RandomForestClassifier(n_estimators=1000)\n",
    "\n",
    "cv = RepeatedStratifiedKFold(n_splits=10, n_repeats=3, random_state=1)\n",
    "\n",
    "scores = cross_val_score(rf_model, X_train, y_train, scoring=scorer, cv=cv, n_jobs=-1)\n",
    "\n",
    "print('Score: %.3f (%.3f)' % (mean(scores), std(scores)))\n",
    "\n"
   ]
  },
  {
   "cell_type": "code",
   "execution_count": 215,
   "metadata": {},
   "outputs": [
    {
     "ename": "NotFittedError",
     "evalue": "This RandomForestClassifier instance is not fitted yet. Call 'fit' with appropriate arguments before using this estimator.",
     "output_type": "error",
     "traceback": [
      "\u001b[1;31m---------------------------------------------------------------------------\u001b[0m",
      "\u001b[1;31mNotFittedError\u001b[0m                            Traceback (most recent call last)",
      "\u001b[1;32m~\\AppData\\Local\\Temp/ipykernel_1512/758594797.py\u001b[0m in \u001b[0;36m<module>\u001b[1;34m\u001b[0m\n\u001b[0;32m      2\u001b[0m \u001b[0mbest_rf_model\u001b[0m \u001b[1;33m=\u001b[0m \u001b[0mrf_grid\u001b[0m\u001b[1;33m.\u001b[0m\u001b[0mbest_estimator_\u001b[0m\u001b[1;33m\u001b[0m\u001b[1;33m\u001b[0m\u001b[0m\n\u001b[0;32m      3\u001b[0m \u001b[1;33m\u001b[0m\u001b[0m\n\u001b[1;32m----> 4\u001b[1;33m \u001b[0my_pred\u001b[0m \u001b[1;33m=\u001b[0m \u001b[0mrf_model\u001b[0m\u001b[1;33m.\u001b[0m\u001b[0mpredict\u001b[0m\u001b[1;33m(\u001b[0m\u001b[0mX_test\u001b[0m\u001b[1;33m)\u001b[0m\u001b[1;33m\u001b[0m\u001b[1;33m\u001b[0m\u001b[0m\n\u001b[0m\u001b[0;32m      5\u001b[0m \u001b[0mprint\u001b[0m\u001b[1;33m(\u001b[0m\u001b[0mclassification_report\u001b[0m\u001b[1;33m(\u001b[0m\u001b[0my_test\u001b[0m\u001b[1;33m,\u001b[0m \u001b[0my_pred\u001b[0m\u001b[1;33m)\u001b[0m\u001b[1;33m)\u001b[0m\u001b[1;33m\u001b[0m\u001b[1;33m\u001b[0m\u001b[0m\n\u001b[0;32m      6\u001b[0m \u001b[0mpd\u001b[0m\u001b[1;33m.\u001b[0m\u001b[0mcrosstab\u001b[0m\u001b[1;33m(\u001b[0m\u001b[0my_test\u001b[0m\u001b[1;33m,\u001b[0m\u001b[0my_pred\u001b[0m\u001b[1;33m)\u001b[0m\u001b[1;33m\u001b[0m\u001b[1;33m\u001b[0m\u001b[0m\n",
      "\u001b[1;32mc:\\Users\\David\\Documents\\Bullshit_Jobs\\2021NovemberNachBsc\\angenommen\\Ingef\\PropensityScoreMatching\\env\\lib\\site-packages\\sklearn\\ensemble\\_forest.py\u001b[0m in \u001b[0;36mpredict\u001b[1;34m(self, X)\u001b[0m\n\u001b[0;32m    796\u001b[0m             \u001b[0mThe\u001b[0m \u001b[0mpredicted\u001b[0m \u001b[0mclasses\u001b[0m\u001b[1;33m.\u001b[0m\u001b[1;33m\u001b[0m\u001b[1;33m\u001b[0m\u001b[0m\n\u001b[0;32m    797\u001b[0m         \"\"\"\n\u001b[1;32m--> 798\u001b[1;33m         \u001b[0mproba\u001b[0m \u001b[1;33m=\u001b[0m \u001b[0mself\u001b[0m\u001b[1;33m.\u001b[0m\u001b[0mpredict_proba\u001b[0m\u001b[1;33m(\u001b[0m\u001b[0mX\u001b[0m\u001b[1;33m)\u001b[0m\u001b[1;33m\u001b[0m\u001b[1;33m\u001b[0m\u001b[0m\n\u001b[0m\u001b[0;32m    799\u001b[0m \u001b[1;33m\u001b[0m\u001b[0m\n\u001b[0;32m    800\u001b[0m         \u001b[1;32mif\u001b[0m \u001b[0mself\u001b[0m\u001b[1;33m.\u001b[0m\u001b[0mn_outputs_\u001b[0m \u001b[1;33m==\u001b[0m \u001b[1;36m1\u001b[0m\u001b[1;33m:\u001b[0m\u001b[1;33m\u001b[0m\u001b[1;33m\u001b[0m\u001b[0m\n",
      "\u001b[1;32mc:\\Users\\David\\Documents\\Bullshit_Jobs\\2021NovemberNachBsc\\angenommen\\Ingef\\PropensityScoreMatching\\env\\lib\\site-packages\\sklearn\\ensemble\\_forest.py\u001b[0m in \u001b[0;36mpredict_proba\u001b[1;34m(self, X)\u001b[0m\n\u001b[0;32m    836\u001b[0m             \u001b[0mclasses\u001b[0m \u001b[0mcorresponds\u001b[0m \u001b[0mto\u001b[0m \u001b[0mthat\u001b[0m \u001b[1;32min\u001b[0m \u001b[0mthe\u001b[0m \u001b[0mattribute\u001b[0m \u001b[1;33m:\u001b[0m\u001b[0mterm\u001b[0m\u001b[1;33m:\u001b[0m\u001b[0;31m`\u001b[0m\u001b[0mclasses_\u001b[0m\u001b[0;31m`\u001b[0m\u001b[1;33m.\u001b[0m\u001b[1;33m\u001b[0m\u001b[1;33m\u001b[0m\u001b[0m\n\u001b[0;32m    837\u001b[0m         \"\"\"\n\u001b[1;32m--> 838\u001b[1;33m         \u001b[0mcheck_is_fitted\u001b[0m\u001b[1;33m(\u001b[0m\u001b[0mself\u001b[0m\u001b[1;33m)\u001b[0m\u001b[1;33m\u001b[0m\u001b[1;33m\u001b[0m\u001b[0m\n\u001b[0m\u001b[0;32m    839\u001b[0m         \u001b[1;31m# Check data\u001b[0m\u001b[1;33m\u001b[0m\u001b[1;33m\u001b[0m\u001b[1;33m\u001b[0m\u001b[0m\n\u001b[0;32m    840\u001b[0m         \u001b[0mX\u001b[0m \u001b[1;33m=\u001b[0m \u001b[0mself\u001b[0m\u001b[1;33m.\u001b[0m\u001b[0m_validate_X_predict\u001b[0m\u001b[1;33m(\u001b[0m\u001b[0mX\u001b[0m\u001b[1;33m)\u001b[0m\u001b[1;33m\u001b[0m\u001b[1;33m\u001b[0m\u001b[0m\n",
      "\u001b[1;32mc:\\Users\\David\\Documents\\Bullshit_Jobs\\2021NovemberNachBsc\\angenommen\\Ingef\\PropensityScoreMatching\\env\\lib\\site-packages\\sklearn\\utils\\validation.py\u001b[0m in \u001b[0;36mcheck_is_fitted\u001b[1;34m(estimator, attributes, msg, all_or_any)\u001b[0m\n\u001b[0;32m   1207\u001b[0m \u001b[1;33m\u001b[0m\u001b[0m\n\u001b[0;32m   1208\u001b[0m     \u001b[1;32mif\u001b[0m \u001b[1;32mnot\u001b[0m \u001b[0mfitted\u001b[0m\u001b[1;33m:\u001b[0m\u001b[1;33m\u001b[0m\u001b[1;33m\u001b[0m\u001b[0m\n\u001b[1;32m-> 1209\u001b[1;33m         \u001b[1;32mraise\u001b[0m \u001b[0mNotFittedError\u001b[0m\u001b[1;33m(\u001b[0m\u001b[0mmsg\u001b[0m \u001b[1;33m%\u001b[0m \u001b[1;33m{\u001b[0m\u001b[1;34m\"name\"\u001b[0m\u001b[1;33m:\u001b[0m \u001b[0mtype\u001b[0m\u001b[1;33m(\u001b[0m\u001b[0mestimator\u001b[0m\u001b[1;33m)\u001b[0m\u001b[1;33m.\u001b[0m\u001b[0m__name__\u001b[0m\u001b[1;33m}\u001b[0m\u001b[1;33m)\u001b[0m\u001b[1;33m\u001b[0m\u001b[1;33m\u001b[0m\u001b[0m\n\u001b[0m\u001b[0;32m   1210\u001b[0m \u001b[1;33m\u001b[0m\u001b[0m\n\u001b[0;32m   1211\u001b[0m \u001b[1;33m\u001b[0m\u001b[0m\n",
      "\u001b[1;31mNotFittedError\u001b[0m: This RandomForestClassifier instance is not fitted yet. Call 'fit' with appropriate arguments before using this estimator."
     ]
    }
   ],
   "source": [
    "rf_grid = GridSearchCV(estimator=RandomForestClassifier(n_estimators=1000), param_grid=param_grid, n_jobs=-1, cv=cv, scoring=scorer).fit(X_train,y_train)\n",
    "best_rf_model = rf_grid.best_estimator_\n",
    "\n"
   ]
  },
  {
   "cell_type": "code",
   "execution_count": 217,
   "metadata": {},
   "outputs": [
    {
     "data": {
      "text/plain": [
       "0.13960119316424668"
      ]
     },
     "execution_count": 217,
     "metadata": {},
     "output_type": "execute_result"
    }
   ],
   "source": [
    "rf_grid.best_score_"
   ]
  }
 ],
 "metadata": {
  "interpreter": {
   "hash": "e3b57521f1696ed27bc107b3b51ddbbabf2734fefe58c3fbb9ab14254d748566"
  },
  "kernelspec": {
   "display_name": "Python 3.7.4 64-bit ('env': venv)",
   "name": "python3"
  },
  "language_info": {
   "codemirror_mode": {
    "name": "ipython",
    "version": 3
   },
   "file_extension": ".py",
   "mimetype": "text/x-python",
   "name": "python",
   "nbconvert_exporter": "python",
   "pygments_lexer": "ipython3",
   "version": "3.7.4"
  },
  "orig_nbformat": 4
 },
 "nbformat": 4,
 "nbformat_minor": 2
}
