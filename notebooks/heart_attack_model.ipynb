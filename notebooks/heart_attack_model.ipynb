{
 "cells": [
  {
   "cell_type": "markdown",
   "metadata": {},
   "source": [
    "# Athritis on heart attack model"
   ]
  },
  {
   "cell_type": "markdown",
   "metadata": {},
   "source": [
    "## Datenvorverarbeitung:"
   ]
  },
  {
   "cell_type": "code",
   "execution_count": 1,
   "metadata": {},
   "outputs": [
    {
     "name": "stdout",
     "output_type": "stream",
     "text": [
      "<class 'pandas.core.frame.DataFrame'>\n",
      "RangeIndex: 3788 entries, 0 to 3787\n",
      "Data columns (total 14 columns):\n",
      " #   Column             Non-Null Count  Dtype \n",
      "---  ------             --------------  ----- \n",
      " 0   arthritis.type     3788 non-null   object\n",
      " 1   gender             3788 non-null   object\n",
      " 2   bmi                3788 non-null   object\n",
      " 3   diabetes           3788 non-null   object\n",
      " 4   smoke              3788 non-null   object\n",
      " 5   age                3788 non-null   object\n",
      " 6   education          3788 non-null   object\n",
      " 7   marriage           3788 non-null   object\n",
      " 8   physical.activity  3788 non-null   object\n",
      " 9   medical.access     3788 non-null   object\n",
      " 10  blood.pressure     3788 non-null   object\n",
      " 11  healthy.diet       3788 non-null   object\n",
      " 12  covered.health     3788 non-null   object\n",
      " 13  heart.attack       3788 non-null   object\n",
      "dtypes: object(14)\n",
      "memory usage: 414.4+ KB\n"
     ]
    },
    {
     "data": {
      "text/html": [
       "<div>\n",
       "<style scoped>\n",
       "    .dataframe tbody tr th:only-of-type {\n",
       "        vertical-align: middle;\n",
       "    }\n",
       "\n",
       "    .dataframe tbody tr th {\n",
       "        vertical-align: top;\n",
       "    }\n",
       "\n",
       "    .dataframe thead th {\n",
       "        text-align: right;\n",
       "    }\n",
       "</style>\n",
       "<table border=\"1\" class=\"dataframe\">\n",
       "  <thead>\n",
       "    <tr style=\"text-align: right;\">\n",
       "      <th></th>\n",
       "      <th>arthritis.type</th>\n",
       "      <th>gender</th>\n",
       "      <th>bmi</th>\n",
       "      <th>diabetes</th>\n",
       "      <th>smoke</th>\n",
       "      <th>age</th>\n",
       "      <th>education</th>\n",
       "      <th>marriage</th>\n",
       "      <th>physical.activity</th>\n",
       "      <th>medical.access</th>\n",
       "      <th>blood.pressure</th>\n",
       "      <th>healthy.diet</th>\n",
       "      <th>covered.health</th>\n",
       "      <th>heart.attack</th>\n",
       "    </tr>\n",
       "  </thead>\n",
       "  <tbody>\n",
       "    <tr>\n",
       "      <th>0</th>\n",
       "      <td>Non-arthritis</td>\n",
       "      <td>Male</td>\n",
       "      <td>(25,80]</td>\n",
       "      <td>No</td>\n",
       "      <td>No</td>\n",
       "      <td>(50,70]</td>\n",
       "      <td>School</td>\n",
       "      <td>Married</td>\n",
       "      <td>Moderate</td>\n",
       "      <td>Yes</td>\n",
       "      <td>No</td>\n",
       "      <td>Fair</td>\n",
       "      <td>No</td>\n",
       "      <td>No</td>\n",
       "    </tr>\n",
       "    <tr>\n",
       "      <th>1</th>\n",
       "      <td>Non-arthritis</td>\n",
       "      <td>Male</td>\n",
       "      <td>(0,25]</td>\n",
       "      <td>No</td>\n",
       "      <td>No</td>\n",
       "      <td>(19.9,50]</td>\n",
       "      <td>High.School</td>\n",
       "      <td>Not.married</td>\n",
       "      <td>No</td>\n",
       "      <td>Yes</td>\n",
       "      <td>No</td>\n",
       "      <td>Good</td>\n",
       "      <td>No</td>\n",
       "      <td>No</td>\n",
       "    </tr>\n",
       "    <tr>\n",
       "      <th>2</th>\n",
       "      <td>Non-arthritis</td>\n",
       "      <td>Male</td>\n",
       "      <td>(25,80]</td>\n",
       "      <td>No</td>\n",
       "      <td>Yes</td>\n",
       "      <td>(50,70]</td>\n",
       "      <td>High.School</td>\n",
       "      <td>Married</td>\n",
       "      <td>No</td>\n",
       "      <td>Yes</td>\n",
       "      <td>Yes</td>\n",
       "      <td>Good</td>\n",
       "      <td>Yes</td>\n",
       "      <td>No</td>\n",
       "    </tr>\n",
       "    <tr>\n",
       "      <th>3</th>\n",
       "      <td>Rheumatoid arthritis</td>\n",
       "      <td>Male</td>\n",
       "      <td>(25,80]</td>\n",
       "      <td>Yes</td>\n",
       "      <td>No</td>\n",
       "      <td>(50,70]</td>\n",
       "      <td>College</td>\n",
       "      <td>Married</td>\n",
       "      <td>No</td>\n",
       "      <td>Yes</td>\n",
       "      <td>Yes</td>\n",
       "      <td>Poor</td>\n",
       "      <td>Yes</td>\n",
       "      <td>No</td>\n",
       "    </tr>\n",
       "    <tr>\n",
       "      <th>4</th>\n",
       "      <td>Non-arthritis</td>\n",
       "      <td>Female</td>\n",
       "      <td>(25,80]</td>\n",
       "      <td>No</td>\n",
       "      <td>No</td>\n",
       "      <td>(19.9,50]</td>\n",
       "      <td>High.School</td>\n",
       "      <td>Married</td>\n",
       "      <td>Moderate</td>\n",
       "      <td>No</td>\n",
       "      <td>No</td>\n",
       "      <td>Fair</td>\n",
       "      <td>No</td>\n",
       "      <td>No</td>\n",
       "    </tr>\n",
       "  </tbody>\n",
       "</table>\n",
       "</div>"
      ],
      "text/plain": [
       "         arthritis.type  gender      bmi diabetes smoke        age  \\\n",
       "0         Non-arthritis    Male  (25,80]       No    No    (50,70]   \n",
       "1         Non-arthritis    Male   (0,25]       No    No  (19.9,50]   \n",
       "2         Non-arthritis    Male  (25,80]       No   Yes    (50,70]   \n",
       "3  Rheumatoid arthritis    Male  (25,80]      Yes    No    (50,70]   \n",
       "4         Non-arthritis  Female  (25,80]       No    No  (19.9,50]   \n",
       "\n",
       "     education     marriage physical.activity medical.access blood.pressure  \\\n",
       "0       School      Married          Moderate            Yes             No   \n",
       "1  High.School  Not.married                No            Yes             No   \n",
       "2  High.School      Married                No            Yes            Yes   \n",
       "3      College      Married                No            Yes            Yes   \n",
       "4  High.School      Married          Moderate             No             No   \n",
       "\n",
       "  healthy.diet covered.health heart.attack  \n",
       "0         Fair             No           No  \n",
       "1         Good             No           No  \n",
       "2         Good            Yes           No  \n",
       "3         Poor            Yes           No  \n",
       "4         Fair             No           No  "
      ]
     },
     "execution_count": 1,
     "metadata": {},
     "output_type": "execute_result"
    }
   ],
   "source": [
    "import pandas as pd\n",
    "import seaborn as sns\n",
    "import numpy as np\n",
    "import matplotlib.pyplot as plt\n",
    "from sklearn.preprocessing import LabelEncoder\n",
    "from sklearn.preprocessing import MinMaxScaler\n",
    "from sklearn.metrics import accuracy_score, recall_score, f1_score, roc_auc_score, roc_curve, precision_score\n",
    "from collections import defaultdict\n",
    "\n",
    "# import data\n",
    "data = pd.read_csv(\"../data/Arthritis_on_heart_attack.csv\",usecols=range(1,15))\n",
    "\n",
    "# obtain an overview of the data\n",
    "data.info()\n",
    "data.describe()\n",
    "data.head()"
   ]
  },
  {
   "cell_type": "code",
   "execution_count": 2,
   "metadata": {},
   "outputs": [
    {
     "name": "stdout",
     "output_type": "stream",
     "text": [
      "arthritis.type  Non-arthritis  Rheumatoid arthritis\n",
      "heart.attack                                       \n",
      "No                       3454                   224\n",
      "Yes                        90                    20 \n",
      "\n",
      "gender        Female  Male\n",
      "heart.attack              \n",
      "No              1825  1853\n",
      "Yes               25    85 \n",
      "\n",
      "bmi           (0,25]  (25,80]\n",
      "heart.attack                 \n",
      "No              1152     2526\n",
      "Yes               24       86 \n",
      "\n",
      "diabetes        No  Yes\n",
      "heart.attack           \n",
      "No            3378  300\n",
      "Yes             84   26 \n",
      "\n",
      "smoke           No   Yes\n",
      "heart.attack            \n",
      "No            2073  1605\n",
      "Yes             31    79 \n",
      "\n",
      "age           (19.9,50]  (50,70]  (70,81]\n",
      "heart.attack                             \n",
      "No                 2316      982      380\n",
      "Yes                  24       39       47 \n",
      "\n",
      "education     College  High.School  School\n",
      "heart.attack                              \n",
      "No               1733         1541     404\n",
      "Yes                42           44      24 \n",
      "\n",
      "marriage      Married  Not.married\n",
      "heart.attack                      \n",
      "No               2213         1465\n",
      "Yes                64           46 \n",
      "\n",
      "physical.activity  High  Moderate    No\n",
      "heart.attack                           \n",
      "No                  780       834  2064\n",
      "Yes                  20        17    73 \n",
      "\n",
      "medical.access   No   Yes\n",
      "heart.attack             \n",
      "No              665  3013\n",
      "Yes               9   101 \n",
      "\n",
      "blood.pressure    No  Yes\n",
      "heart.attack             \n",
      "No              2697  981\n",
      "Yes               34   76 \n",
      "\n",
      "healthy.diet  Fair  Good  Poor\n",
      "heart.attack                  \n",
      "No             860  2614   204\n",
      "Yes             20    78    12 \n",
      "\n",
      "covered.health    No   Yes\n",
      "heart.attack              \n",
      "No              1045  2633\n",
      "Yes               14    96 \n",
      "\n",
      "heart.attack    No  Yes\n",
      "heart.attack           \n",
      "No            3678    0\n",
      "Yes              0  110 \n",
      "\n"
     ]
    }
   ],
   "source": [
    "# print frequency distributions crosstabs\n",
    "for col in data:\n",
    "    data_crosstab = pd.crosstab(data['heart.attack'],\n",
    "                            data[col], \n",
    "                               margins = False)\n",
    "    print(data_crosstab,\"\\n\")"
   ]
  },
  {
   "cell_type": "markdown",
   "metadata": {},
   "source": [
    "Die Gruppe der Personen mit Herzinfarkt ist sehr niedrig besetzt mit 110/3678=0.0299075, damit ist der Datensatz moderat bis sehr startk unausgeglichen. \n",
    "Dementsprechend kann es sinnvoll sein Methoden wie gewichtetes Sampling,threshhold-moving, oversampling, undersampling oder SMOTE zur Verbesserung der Model Performance anzuwenden.\n",
    "\n",
    "F1-Score ist ein sinnvoller Scorer für Modelle auf einen unausgeglichenen Datensatz. Da eine leistungsfähige Vorhersage der positiven Klasse 'heart.attack' von hoeherer Relevanz ist sollten hier F0.5-Score und PR AUC bzw. average_precision benutzt werden."
   ]
  },
  {
   "cell_type": "code",
   "execution_count": 3,
   "metadata": {},
   "outputs": [
    {
     "name": "stdout",
     "output_type": "stream",
     "text": [
      "['Non-arthritis' 'Rheumatoid arthritis']\n",
      "['Female' 'Male']\n",
      "['(0,25]' '(25,80]']\n",
      "['No' 'Yes']\n",
      "['No' 'Yes']\n",
      "['(19.9,50]' '(50,70]' '(70,81]']\n",
      "['College' 'High.School' 'School']\n",
      "['Married' 'Not.married']\n",
      "['High' 'Moderate' 'No']\n",
      "['No' 'Yes']\n",
      "['No' 'Yes']\n",
      "['Fair' 'Good' 'Poor']\n",
      "['No' 'Yes']\n",
      "['No' 'Yes']\n"
     ]
    },
    {
     "data": {
      "text/html": [
       "<div>\n",
       "<style scoped>\n",
       "    .dataframe tbody tr th:only-of-type {\n",
       "        vertical-align: middle;\n",
       "    }\n",
       "\n",
       "    .dataframe tbody tr th {\n",
       "        vertical-align: top;\n",
       "    }\n",
       "\n",
       "    .dataframe thead th {\n",
       "        text-align: right;\n",
       "    }\n",
       "</style>\n",
       "<table border=\"1\" class=\"dataframe\">\n",
       "  <thead>\n",
       "    <tr style=\"text-align: right;\">\n",
       "      <th></th>\n",
       "      <th>arthritis.type</th>\n",
       "      <th>gender</th>\n",
       "      <th>bmi</th>\n",
       "      <th>diabetes</th>\n",
       "      <th>smoke</th>\n",
       "      <th>age</th>\n",
       "      <th>education</th>\n",
       "      <th>marriage</th>\n",
       "      <th>physical.activity</th>\n",
       "      <th>medical.access</th>\n",
       "      <th>blood.pressure</th>\n",
       "      <th>healthy.diet</th>\n",
       "      <th>covered.health</th>\n",
       "      <th>heart.attack</th>\n",
       "    </tr>\n",
       "  </thead>\n",
       "  <tbody>\n",
       "    <tr>\n",
       "      <th>0</th>\n",
       "      <td>0</td>\n",
       "      <td>1</td>\n",
       "      <td>1</td>\n",
       "      <td>0</td>\n",
       "      <td>0</td>\n",
       "      <td>1</td>\n",
       "      <td>2</td>\n",
       "      <td>0</td>\n",
       "      <td>1</td>\n",
       "      <td>1</td>\n",
       "      <td>0</td>\n",
       "      <td>1</td>\n",
       "      <td>0</td>\n",
       "      <td>0</td>\n",
       "    </tr>\n",
       "    <tr>\n",
       "      <th>1</th>\n",
       "      <td>0</td>\n",
       "      <td>1</td>\n",
       "      <td>0</td>\n",
       "      <td>0</td>\n",
       "      <td>0</td>\n",
       "      <td>0</td>\n",
       "      <td>1</td>\n",
       "      <td>1</td>\n",
       "      <td>2</td>\n",
       "      <td>1</td>\n",
       "      <td>0</td>\n",
       "      <td>0</td>\n",
       "      <td>0</td>\n",
       "      <td>0</td>\n",
       "    </tr>\n",
       "    <tr>\n",
       "      <th>2</th>\n",
       "      <td>0</td>\n",
       "      <td>1</td>\n",
       "      <td>1</td>\n",
       "      <td>0</td>\n",
       "      <td>1</td>\n",
       "      <td>1</td>\n",
       "      <td>1</td>\n",
       "      <td>0</td>\n",
       "      <td>2</td>\n",
       "      <td>1</td>\n",
       "      <td>1</td>\n",
       "      <td>0</td>\n",
       "      <td>1</td>\n",
       "      <td>0</td>\n",
       "    </tr>\n",
       "    <tr>\n",
       "      <th>3</th>\n",
       "      <td>1</td>\n",
       "      <td>1</td>\n",
       "      <td>1</td>\n",
       "      <td>1</td>\n",
       "      <td>0</td>\n",
       "      <td>1</td>\n",
       "      <td>0</td>\n",
       "      <td>0</td>\n",
       "      <td>2</td>\n",
       "      <td>1</td>\n",
       "      <td>1</td>\n",
       "      <td>2</td>\n",
       "      <td>1</td>\n",
       "      <td>0</td>\n",
       "    </tr>\n",
       "    <tr>\n",
       "      <th>4</th>\n",
       "      <td>0</td>\n",
       "      <td>0</td>\n",
       "      <td>1</td>\n",
       "      <td>0</td>\n",
       "      <td>0</td>\n",
       "      <td>0</td>\n",
       "      <td>1</td>\n",
       "      <td>0</td>\n",
       "      <td>1</td>\n",
       "      <td>0</td>\n",
       "      <td>0</td>\n",
       "      <td>1</td>\n",
       "      <td>0</td>\n",
       "      <td>0</td>\n",
       "    </tr>\n",
       "  </tbody>\n",
       "</table>\n",
       "</div>"
      ],
      "text/plain": [
       "   arthritis.type  gender  bmi  diabetes  smoke  age  education  marriage  \\\n",
       "0               0       1    1         0      0    1          2         0   \n",
       "1               0       1    0         0      0    0          1         1   \n",
       "2               0       1    1         0      1    1          1         0   \n",
       "3               1       1    1         1      0    1          0         0   \n",
       "4               0       0    1         0      0    0          1         0   \n",
       "\n",
       "   physical.activity  medical.access  blood.pressure  healthy.diet  \\\n",
       "0                  1               1               0             1   \n",
       "1                  2               1               0             0   \n",
       "2                  2               1               1             0   \n",
       "3                  2               1               1             2   \n",
       "4                  1               0               0             1   \n",
       "\n",
       "   covered.health  heart.attack  \n",
       "0               0             0  \n",
       "1               0             0  \n",
       "2               1             0  \n",
       "3               1             0  \n",
       "4               0             0  "
      ]
     },
     "execution_count": 3,
     "metadata": {},
     "output_type": "execute_result"
    }
   ],
   "source": [
    "# encode categorical data for modeling\n",
    "label_dict = defaultdict(LabelEncoder)\n",
    "data.apply(lambda x: label_dict[x.name].fit_transform(x))\n",
    "\n",
    "for i in label_dict:\n",
    "    print(label_dict[i].classes_)\n",
    "    \n",
    "# manually setting encoder for healthy.diet for a more reasonable order\n",
    "label_dict['healthy.diet'].classes_ = ['Good', 'Fair', 'Poor']\n",
    "\n",
    "# non-binary categories exhibit natural order and are therefore encoded ordinaly \n",
    "encoded_data = data.apply(lambda x: label_dict[x.name].transform(x))\n",
    "encoded_data.head()"
   ]
  },
  {
   "cell_type": "code",
   "execution_count": 4,
   "metadata": {},
   "outputs": [
    {
     "data": {
      "text/plain": [
       "(array([2.42425701e+01, 1.50973112e+01, 1.39884606e+00, 2.97382272e+01,\n",
       "        1.90789571e+01, 1.16714793e+02, 6.47822113e+00, 1.05688353e-01,\n",
       "        1.39044315e+00, 1.27303002e+00, 6.88725679e+01, 9.41227337e-01,\n",
       "        3.64724397e+00]),\n",
       " array([8.49340896e-07, 1.02108622e-04, 2.36916873e-01, 4.94500196e-08,\n",
       "        1.25420175e-05, 3.31464790e-27, 1.09204222e-02, 7.45107318e-01,\n",
       "        2.38330276e-01, 2.59199018e-01, 1.05035733e-16, 3.31962402e-01,\n",
       "        5.61620742e-02]))"
      ]
     },
     "execution_count": 4,
     "metadata": {},
     "output_type": "execute_result"
    }
   ],
   "source": [
    "from sklearn.feature_selection import chi2\n",
    "\n",
    "chi2(encoded_data.loc[:, encoded_data.columns != 'heart.attack'],encoded_data[['heart.attack']])"
   ]
  },
  {
   "cell_type": "markdown",
   "metadata": {},
   "source": [
    "Zum testen der Abhaengigkeit zwischen kategorischen Variablen kann der Chi-Quadrat-Test angewandt, Merkmalsinteraktionen werden bei diesem Test ignoriert. Wenn man beim p-Wert von einem Signifikanzniveau von 0.05 ausgeht, wuerde man sich fuer die Variablen 'arthritis.type', 'gender', 'diabetes', 'smoke', 'age', 'education', 'blood.pressure'. Wir nutzen dennoch erstmal den gesamten Datensatz zur Modellierung.\n",
    "\n",
    "Daraus kann man schließen, dass die gegebenen Merkmale geeignet sind um einen Herzinfarkt zu prognostizieren."
   ]
  },
  {
   "cell_type": "code",
   "execution_count": 5,
   "metadata": {},
   "outputs": [],
   "source": [
    "from sklearn.model_selection import train_test_split\n",
    "from sklearn.metrics import classification_report\n",
    "\n",
    "y = encoded_data['heart.attack']\n",
    "X = encoded_data.drop('heart.attack',axis=1)\n",
    "\n",
    "# stratified train test split over heart.attack \n",
    "X_train, X_test, y_train, y_test = train_test_split(X, y, test_size=0.2,stratify=y,random_state=0)"
   ]
  },
  {
   "cell_type": "markdown",
   "metadata": {},
   "source": [
    "## Logistische Regressions Modellierung\n",
    "\n",
    "Zunaechst wird ein logistisches Regressionsmodell genutzt, weil es für binäre Klassifizierung geeignet ist und in der Lage ist durch eine interne Gewichtung ein relativ gutes Model auf dem unausgeglichenen Daten zu generieren. Durch den l1-Regulator werden Koeffizienten von nicht-relevanten Merkmalen gegen Null reduziert und der l2-Regulator verminder overfitting."
   ]
  },
  {
   "cell_type": "code",
   "execution_count": 6,
   "metadata": {},
   "outputs": [
    {
     "name": "stdout",
     "output_type": "stream",
     "text": [
      "F0.5-Score: 0.100\n"
     ]
    }
   ],
   "source": [
    "from sklearn.linear_model import LogisticRegression\n",
    "from sklearn.metrics import classification_report, confusion_matrix\n",
    "from sklearn.model_selection import KFold\n",
    "from sklearn.model_selection import cross_val_score\n",
    "from numpy import mean\n",
    "from numpy import std\n",
    "from sklearn.metrics import fbeta_score, make_scorer\n",
    "f05_scorer = make_scorer(fbeta_score, beta=0.5)\n",
    "\n",
    "scorer = f05_scorer\n",
    "\n",
    "# create naive model with 'balanced' class weight\n",
    "lr_balanced = LogisticRegression(class_weight='balanced')\n",
    "\n",
    "scores = cross_val_score(lr_balanced, X_train, y_train, scoring=scorer, cv=5, n_jobs=1)\n",
    "\n",
    "print('F0.5-Score: %.3f' % (mean(scores)))"
   ]
  },
  {
   "cell_type": "code",
   "execution_count": 7,
   "metadata": {},
   "outputs": [
    {
     "name": "stdout",
     "output_type": "stream",
     "text": [
      "Fitting 5 folds for each of 200 candidates, totalling 1000 fits\n",
      "Best F0.5-Score score :  0.2347449042213306\n",
      "Best class weights :  {'class_weight': {0: 0.1442713567839196, 1: 0.8557286432160804}}\n"
     ]
    },
    {
     "data": {
      "image/png": "[encoded data removed]",
      "text/plain": [
       "<Figure size 576x432 with 1 Axes>"
      ]
     },
     "metadata": {},
     "output_type": "display_data"
    }
   ],
   "source": [
    "# optimize class weights\n",
    "from sklearn.model_selection import GridSearchCV, StratifiedKFold\n",
    "lr = LogisticRegression()\n",
    "# Setting the range for class weights\n",
    "weights = np.linspace(0.0,0.99,200)\n",
    "# Creating a dictionary grid for grid search\n",
    "param_grid = {'class_weight': [{0:x, 1:1.0-x} for x in weights]}\n",
    "\n",
    "# Fitting grid search to the train data with 5 folds\n",
    "lr_weight_gridsearch = GridSearchCV(estimator= lr, \n",
    "                          param_grid= param_grid,\n",
    "                          cv=StratifiedKFold(), \n",
    "                          n_jobs=-1, \n",
    "                          scoring=scorer, \n",
    "                          verbose=2).fit(X_train, y_train)\n",
    "                          # Ploting the score for different values of weight\n",
    "                          \n",
    "sns.set_style('whitegrid')\n",
    "plt.figure(figsize=(8,6))\n",
    "weigh_data = pd.DataFrame({ 'score': lr_weight_gridsearch.cv_results_['mean_test_score'], 'weight': (1- weights)})\n",
    "sns.lineplot(x=weigh_data['weight'],y= weigh_data['score'])\n",
    "plt.xlabel('Weight for class 1')\n",
    "plt.ylabel('Score')\n",
    "plt.xticks(np.linspace(0,1,11))\n",
    "plt.title('Scoring for different class weights', fontsize=20)\n",
    "\n",
    "lr_weighted = lr_weight_gridsearch.best_estimator_\n",
    "\n",
    "print('Best F0.5-Score score : ', lr_weight_gridsearch.best_score_)\n",
    "print('Best class weights : ', lr_weight_gridsearch.best_params_)"
   ]
  },
  {
   "cell_type": "code",
   "execution_count": 14,
   "metadata": {},
   "outputs": [
    {
     "name": "stdout",
     "output_type": "stream",
     "text": [
      "Fitting 5 folds for each of 380 candidates, totalling 1900 fits\n",
      "LogisticRegression(C=0.6500000000000001,\n",
      "                   class_weight={0: 0.1442713567839196, 1: 0.8557286432160804},\n",
      "                   l1_ratio=0.5, penalty='elasticnet', solver='saga')\n"
     ]
    }
   ],
   "source": [
    "# optimize regulization parameters\n",
    "regulizer_param_grid = {'C' : (np.arange(0.05,1,0.05)),\n",
    "            'l1_ratio': (np.arange(0,1,0.05)) }\n",
    "\n",
    "lr_regulizer_gridsearch = GridSearchCV(estimator= lr_weighted.set_params(solver='saga',penalty='elasticnet'), \n",
    "                          param_grid= regulizer_param_grid,\n",
    "                          cv=StratifiedKFold(), \n",
    "                          n_jobs=-1, \n",
    "                          scoring=scorer, \n",
    "                          verbose=2).fit(X_train, y_train)\n",
    "\n",
    "print(lr_regulizer_gridsearch.best_estimator_)"
   ]
  },
  {
   "cell_type": "code",
   "execution_count": 16,
   "metadata": {},
   "outputs": [
    {
     "name": "stdout",
     "output_type": "stream",
     "text": [
      "F0.5-Score score :  0.3076923076923077\n",
      "              precision    recall  f1-score   support\n",
      "\n",
      "           0       0.98      0.97      0.98       736\n",
      "           1       0.30      0.36      0.33        22\n",
      "\n",
      "    accuracy                           0.96       758\n",
      "   macro avg       0.64      0.67      0.65       758\n",
      "weighted avg       0.96      0.96      0.96       758\n",
      "\n"
     ]
    },
    {
     "data": {
      "text/html": [
       "<div>\n",
       "<style scoped>\n",
       "    .dataframe tbody tr th:only-of-type {\n",
       "        vertical-align: middle;\n",
       "    }\n",
       "\n",
       "    .dataframe tbody tr th {\n",
       "        vertical-align: top;\n",
       "    }\n",
       "\n",
       "    .dataframe thead th {\n",
       "        text-align: right;\n",
       "    }\n",
       "</style>\n",
       "<table border=\"1\" class=\"dataframe\">\n",
       "  <thead>\n",
       "    <tr style=\"text-align: right;\">\n",
       "      <th>col_0</th>\n",
       "      <th>0</th>\n",
       "      <th>1</th>\n",
       "    </tr>\n",
       "    <tr>\n",
       "      <th>heart.attack</th>\n",
       "      <th></th>\n",
       "      <th></th>\n",
       "    </tr>\n",
       "  </thead>\n",
       "  <tbody>\n",
       "    <tr>\n",
       "      <th>0</th>\n",
       "      <td>717</td>\n",
       "      <td>19</td>\n",
       "    </tr>\n",
       "    <tr>\n",
       "      <th>1</th>\n",
       "      <td>14</td>\n",
       "      <td>8</td>\n",
       "    </tr>\n",
       "  </tbody>\n",
       "</table>\n",
       "</div>"
      ],
      "text/plain": [
       "col_0           0   1\n",
       "heart.attack         \n",
       "0             717  19\n",
       "1              14   8"
      ]
     },
     "execution_count": 16,
     "metadata": {},
     "output_type": "execute_result"
    }
   ],
   "source": [
    "# retrain final model on whole training data set\n",
    "lr_model = lr_regulizer_gridsearch.best_estimator_.fit(X_train,y_train)\n",
    "\n",
    "# report on final model\n",
    "y_pred = lr_model.predict(X_test)\n",
    "print(classification_report(y_test, y_pred))\n",
    "pd.crosstab(y_test,y_pred)\n",
    "print('F0.5-Score score : ', fbeta_score(y_test, y_pred,beta=0.5))"
   ]
  },
  {
   "cell_type": "code",
   "execution_count": 19,
   "metadata": {},
   "outputs": [
    {
     "name": "stdout",
     "output_type": "stream",
     "text": [
      "PR-AUC : 0.197\n",
      "Best Threshold=0.535635, F-Score=0.400\n"
     ]
    },
    {
     "name": "stderr",
     "output_type": "stream",
     "text": [
      "c:\\Users\\David\\Documents\\Jobs\\2021NovemberNachBsc\\angenommen\\Ingef\\PropensityScoreMatching\\env\\lib\\site-packages\\ipykernel_launcher.py:14: RuntimeWarning: invalid value encountered in true_divide\n",
      "  \n"
     ]
    },
    {
     "data": {
      "text/plain": [
       "<matplotlib.collections.PathCollection at 0x16eff7a8e88>"
      ]
     },
     "execution_count": 19,
     "metadata": {},
     "output_type": "execute_result"
    },
    {
     "data": {
      "image/png": "[encoded data removed]",
      "text/plain": [
       "<Figure size 432x288 with 1 Axes>"
      ]
     },
     "metadata": {},
     "output_type": "display_data"
    }
   ],
   "source": [
    "# optimize classification threshold\n",
    "\n",
    "# get prediction probabilities for scoring\n",
    "pos_proba = lr_model.predict_proba(X_test)[:,1]\n",
    "\n",
    "from sklearn.metrics import precision_recall_curve, auc\n",
    "\n",
    "precision, recall, thresholds = precision_recall_curve(y_test, pos_proba)\n",
    "\n",
    "auc_precision_recall = auc(recall, precision)\n",
    "\n",
    "print('PR-AUC : %.3f' % (auc_precision_recall))\n",
    "\n",
    "fscore = (2 * precision * recall) / (precision + recall)\n",
    "idx = np.nanargmax(fscore)\n",
    "\n",
    "print('Best Threshold = %f, F-Score = %.3f' % (thresholds[idx], fscore[idx]))\n",
    "\n",
    "# plot Precision Recall Curve with 'optimal' threshold\n",
    "plt.plot(recall, precision, marker='.', label='Logistic')\n",
    "plt.xlabel('Recall')\n",
    "plt.ylabel('Precision')\n",
    "plt.scatter(recall[idx], precision[idx], marker='o', color='black', label='Best')"
   ]
  },
  {
   "cell_type": "code",
   "execution_count": 20,
   "metadata": {},
   "outputs": [
    {
     "name": "stdout",
     "output_type": "stream",
     "text": [
      "              precision    recall  f1-score   support\n",
      "\n",
      "           0       0.98      0.99      0.98       736\n",
      "           1       0.41      0.32      0.36        22\n",
      "\n",
      "    accuracy                           0.97       758\n",
      "   macro avg       0.70      0.65      0.67       758\n",
      "weighted avg       0.96      0.97      0.96       758\n",
      "\n"
     ]
    },
    {
     "data": {
      "text/html": [
       "<div>\n",
       "<style scoped>\n",
       "    .dataframe tbody tr th:only-of-type {\n",
       "        vertical-align: middle;\n",
       "    }\n",
       "\n",
       "    .dataframe tbody tr th {\n",
       "        vertical-align: top;\n",
       "    }\n",
       "\n",
       "    .dataframe thead th {\n",
       "        text-align: right;\n",
       "    }\n",
       "</style>\n",
       "<table border=\"1\" class=\"dataframe\">\n",
       "  <thead>\n",
       "    <tr style=\"text-align: right;\">\n",
       "      <th>col_0</th>\n",
       "      <th>False</th>\n",
       "      <th>True</th>\n",
       "    </tr>\n",
       "    <tr>\n",
       "      <th>heart.attack</th>\n",
       "      <th></th>\n",
       "      <th></th>\n",
       "    </tr>\n",
       "  </thead>\n",
       "  <tbody>\n",
       "    <tr>\n",
       "      <th>0</th>\n",
       "      <td>726</td>\n",
       "      <td>10</td>\n",
       "    </tr>\n",
       "    <tr>\n",
       "      <th>1</th>\n",
       "      <td>15</td>\n",
       "      <td>7</td>\n",
       "    </tr>\n",
       "  </tbody>\n",
       "</table>\n",
       "</div>"
      ],
      "text/plain": [
       "col_0         False  True\n",
       "heart.attack             \n",
       "0               726    10\n",
       "1                15     7"
      ]
     },
     "execution_count": 20,
     "metadata": {},
     "output_type": "execute_result"
    }
   ],
   "source": [
    "# report on final model with optimized threshold\n",
    "y_pred_thresh = (pos_proba >thresholds[idx]).astype(bool)\n",
    "print(classification_report(y_test,y_pred_thresh))\n",
    "pd.crosstab(y_test,y_pred_thresh)"
   ]
  },
  {
   "cell_type": "code",
   "execution_count": 22,
   "metadata": {},
   "outputs": [
    {
     "name": "stdout",
     "output_type": "stream",
     "text": [
      "Fitting 5 folds for each of 200 candidates, totalling 1000 fits\n",
      "Fitting 5 folds for each of 361 candidates, totalling 1805 fits\n",
      "              precision    recall  f1-score   support\n",
      "\n",
      "           0       0.98      0.97      0.97       736\n",
      "           1       0.25      0.36      0.30        22\n",
      "\n",
      "    accuracy                           0.95       758\n",
      "   macro avg       0.62      0.67      0.64       758\n",
      "weighted avg       0.96      0.95      0.95       758\n",
      "\n",
      "PR-AUC : 0.190\n"
     ]
    },
    {
     "name": "stderr",
     "output_type": "stream",
     "text": [
      "c:\\Users\\David\\Documents\\Jobs\\2021NovemberNachBsc\\angenommen\\Ingef\\PropensityScoreMatching\\env\\lib\\site-packages\\ipykernel_launcher.py:40: RuntimeWarning: invalid value encountered in true_divide\n"
     ]
    }
   ],
   "source": [
    "X_train_sub = X_train[['arthritis.type', 'gender', 'diabetes', 'smoke', 'age', 'education', 'blood.pressure']]\n",
    "X_test_sub = X_test[['arthritis.type', 'gender', 'diabetes', 'smoke', 'age', 'education', 'blood.pressure']]\n",
    "\n",
    "# optimize weight\n",
    "# Setting the range for class weights\n",
    "weights = np.linspace(0.0,0.99,200)\n",
    "# Creating a dictionary grid for grid search\n",
    "param_grid = {'class_weight': [{0:x, 1:1.0-x} for x in weights]}\n",
    "# Fitting grid search to the train data with 5 folds\n",
    "lr_weight_gridsearch_sub = GridSearchCV(estimator= LogisticRegression(), \n",
    "                          param_grid= param_grid,\n",
    "                          cv=StratifiedKFold(), \n",
    "                          n_jobs=-1, \n",
    "                          scoring=scorer, \n",
    "                          verbose=2).fit(X_train_sub, y_train)\n",
    "                          # Ploting the score for different values of weight\n",
    "                          \n",
    "lr_weighted_sub = lr_weight_gridsearch.best_estimator_\n",
    "\n",
    "# optimize regulization parameters\n",
    "regulizer_param_grid = {'C' : (np.arange(0.05,1,0.05)),\n",
    "            'l1_ratio': (np.arange(0,0.95,0.05)) }\n",
    "\n",
    "lr_regulizer_gridsearch_sub = GridSearchCV(estimator= lr_weighted_sub.set_params(solver='saga',penalty='elasticnet'), \n",
    "                          param_grid= regulizer_param_grid,\n",
    "                          cv=StratifiedKFold(), \n",
    "                          n_jobs=-1, \n",
    "                          scoring=scorer, \n",
    "                          verbose=2).fit(X_train_sub, y_train)\n",
    "\n",
    "# get final logistical regression model\n",
    "lr_model_sub = lr_regulizer_gridsearch.best_estimator_\n",
    "lr_model_sub.fit(X_train_sub,y_train)\n",
    "\n",
    "# get prediction probabilities for scoring\n",
    "pos_proba_sub = lr_model_sub.predict_proba(X_test_sub)[:,1]\n",
    "precision, recall, thresholds = precision_recall_curve(y_test, pos_proba_sub)\n",
    "\n",
    "# optimize threshold\n",
    "fscore = (2 * precision * recall) / (precision + recall)\n",
    "idx = np.nanargmax(fscore)\n",
    "y_pred_thresh_sub = (lr_model_sub.predict_proba(X_test_sub)[:,1]> thresholds[idx] ).astype(bool)\n",
    "\n",
    "# report final sub model\n",
    "print(classification_report(y_test,y_pred_thresh_sub))\n",
    "print(pd.crosstab(y_test,y_pred_thresh_sub))\n",
    "auc_precision_recall = auc(recall, precision)\n",
    "print('PR-AUC : %.3f' % (auc_precision_recall))"
   ]
  },
  {
   "cell_type": "markdown",
   "metadata": {},
   "source": [
    "## Random Forest Modellierung\n",
    "Als zweites wird ein Random Forest Klassifizierer angewandt. Hierbei ist wieder eine Kalibrierung der Gewichte möglich um den unausgeglichenen Datensatz besser zu modellieren."
   ]
  },
  {
   "cell_type": "code",
   "execution_count": 23,
   "metadata": {},
   "outputs": [
    {
     "name": "stdout",
     "output_type": "stream",
     "text": [
      "F0.5 Score: 0.103 (0.151)\n"
     ]
    }
   ],
   "source": [
    "from sklearn.ensemble import RandomForestClassifier\n",
    "from sklearn.model_selection import RepeatedStratifiedKFold \n",
    "\n",
    "rf_model = RandomForestClassifier(n_estimators=1000)\n",
    "\n",
    "cv = RepeatedStratifiedKFold(n_splits=10, n_repeats=3, random_state=1)\n",
    "\n",
    "scores = cross_val_score(rf_model, X_train, y_train, scoring=scorer, cv=cv, n_jobs=-1)\n",
    "\n",
    "print('F0.5 Score: %.3f (%.3f)' % (mean(scores), std(scores)))"
   ]
  },
  {
   "cell_type": "code",
   "execution_count": 29,
   "metadata": {},
   "outputs": [
    {
     "name": "stdout",
     "output_type": "stream",
     "text": [
      "              precision    recall  f1-score   support\n",
      "\n",
      "           0       0.99      0.74      0.84       736\n",
      "           1       0.08      0.73      0.14        22\n",
      "\n",
      "    accuracy                           0.74       758\n",
      "   macro avg       0.53      0.73      0.49       758\n",
      "weighted avg       0.96      0.74      0.82       758\n",
      "\n",
      "col_0           0    1\n",
      "heart.attack          \n",
      "0             542  194\n",
      "1               6   16\n",
      "PR-AUC : 0.104\n"
     ]
    }
   ],
   "source": [
    "# build random forest classifier with undersampling on complete data set\n",
    "from imblearn.ensemble import BalancedRandomForestClassifier\n",
    "from sklearn.model_selection import RepeatedStratifiedKFold\n",
    "\n",
    "rf_model = BalancedRandomForestClassifier(n_estimators=1000)\n",
    "\n",
    "rf_model.fit(X_train,y_train)\n",
    "\n",
    "y_rf_pred = rf_model.predict(X_test)\n",
    "\n",
    "print(classification_report(y_test,y_rf_pred))\n",
    "print(pd.crosstab(y_test,y_rf_pred))\n",
    "\n",
    "rf_pos_proba = rf_model.predict_proba(X_test)[:,1]\n",
    "precision, recall, thresholds = precision_recall_curve(y_test, rf_pos_proba)\n",
    "auc_precision_recall = auc(recall, precision)\n",
    "print('PR-AUC : %.3f' % (auc_precision_recall))\n"
   ]
  },
  {
   "cell_type": "code",
   "execution_count": 31,
   "metadata": {},
   "outputs": [
    {
     "name": "stderr",
     "output_type": "stream",
     "text": [
      "c:\\Users\\David\\Documents\\Jobs\\2021NovemberNachBsc\\angenommen\\Ingef\\PropensityScoreMatching\\env\\lib\\site-packages\\ipykernel_launcher.py:2: RuntimeWarning: invalid value encountered in true_divide\n",
      "  \n"
     ]
    },
    {
     "name": "stdout",
     "output_type": "stream",
     "text": [
      "Optimized threshold :  0.7986166666666666\n",
      "              precision    recall  f1-score   support\n",
      "\n",
      "           0       0.98      0.95      0.96       736\n",
      "           1       0.17      0.36      0.23        22\n",
      "\n",
      "    accuracy                           0.93       758\n",
      "   macro avg       0.58      0.66      0.60       758\n",
      "weighted avg       0.96      0.93      0.94       758\n",
      "\n"
     ]
    },
    {
     "data": {
      "text/html": [
       "<div>\n",
       "<style scoped>\n",
       "    .dataframe tbody tr th:only-of-type {\n",
       "        vertical-align: middle;\n",
       "    }\n",
       "\n",
       "    .dataframe tbody tr th {\n",
       "        vertical-align: top;\n",
       "    }\n",
       "\n",
       "    .dataframe thead th {\n",
       "        text-align: right;\n",
       "    }\n",
       "</style>\n",
       "<table border=\"1\" class=\"dataframe\">\n",
       "  <thead>\n",
       "    <tr style=\"text-align: right;\">\n",
       "      <th>col_0</th>\n",
       "      <th>False</th>\n",
       "      <th>True</th>\n",
       "    </tr>\n",
       "    <tr>\n",
       "      <th>heart.attack</th>\n",
       "      <th></th>\n",
       "      <th></th>\n",
       "    </tr>\n",
       "  </thead>\n",
       "  <tbody>\n",
       "    <tr>\n",
       "      <th>0</th>\n",
       "      <td>697</td>\n",
       "      <td>39</td>\n",
       "    </tr>\n",
       "    <tr>\n",
       "      <th>1</th>\n",
       "      <td>14</td>\n",
       "      <td>8</td>\n",
       "    </tr>\n",
       "  </tbody>\n",
       "</table>\n",
       "</div>"
      ],
      "text/plain": [
       "col_0         False  True\n",
       "heart.attack             \n",
       "0               697    39\n",
       "1                14     8"
      ]
     },
     "execution_count": 31,
     "metadata": {},
     "output_type": "execute_result"
    }
   ],
   "source": [
    "# optimize threshold\n",
    "fscore = (2 * precision * recall) / (precision + recall)\n",
    "idx = np.nanargmax(fscore)\n",
    "print(\"Optimized threshold : \",thresholds[idx])\n",
    "y_pred_thresh = (rf_model.predict_proba(X_test)[:,1]> thresholds[idx] ).astype(bool)\n",
    "print(classification_report(y_test,y_pred_thresh))\n",
    "pd.crosstab(y_test,y_pred_thresh)"
   ]
  },
  {
   "cell_type": "code",
   "execution_count": 25,
   "metadata": {},
   "outputs": [
    {
     "name": "stdout",
     "output_type": "stream",
     "text": [
      "              precision    recall  f1-score   support\n",
      "\n",
      "           0       0.99      0.76      0.86       736\n",
      "           1       0.09      0.77      0.16        22\n",
      "\n",
      "    accuracy                           0.76       758\n",
      "   macro avg       0.54      0.77      0.51       758\n",
      "weighted avg       0.96      0.76      0.84       758\n",
      "\n",
      "col_0           0    1\n",
      "heart.attack          \n",
      "0             561  175\n",
      "1               5   17\n",
      "PR-AUC : 0.133\n"
     ]
    }
   ],
   "source": [
    "rf_model_sub = BalancedRandomForestClassifier(n_estimators=1000)\n",
    "\n",
    "rf_model_sub.fit(X_train_sub,y_train)\n",
    "\n",
    "y_rf_pred = rf_model_sub.predict(X_test_sub)\n",
    "\n",
    "print(classification_report(y_test,y_rf_pred))\n",
    "print(pd.crosstab(y_test,y_rf_pred))\n",
    "\n",
    "rf_pos_proba_sub = rf_model_sub.predict_proba(X_test_sub)[:,1]\n",
    "precision, recall, thresholds = precision_recall_curve(y_test, rf_pos_proba_sub)\n",
    "auc_precision_recall = auc(recall, precision)\n",
    "print('PR-AUC : %.3f' % (auc_precision_recall))"
   ]
  },
  {
   "cell_type": "code",
   "execution_count": 28,
   "metadata": {},
   "outputs": [
    {
     "name": "stderr",
     "output_type": "stream",
     "text": [
      "c:\\Users\\David\\Documents\\Jobs\\2021NovemberNachBsc\\angenommen\\Ingef\\PropensityScoreMatching\\env\\lib\\site-packages\\ipykernel_launcher.py:2: RuntimeWarning: invalid value encountered in true_divide\n",
      "  \n"
     ]
    },
    {
     "name": "stdout",
     "output_type": "stream",
     "text": [
      "Optimized threshold :  0.8811880952380953\n",
      "              precision    recall  f1-score   support\n",
      "\n",
      "           0       0.98      0.97      0.98       736\n",
      "           1       0.24      0.27      0.26        22\n",
      "\n",
      "    accuracy                           0.95       758\n",
      "   macro avg       0.61      0.62      0.62       758\n",
      "weighted avg       0.96      0.95      0.96       758\n",
      "\n"
     ]
    },
    {
     "data": {
      "text/html": [
       "<div>\n",
       "<style scoped>\n",
       "    .dataframe tbody tr th:only-of-type {\n",
       "        vertical-align: middle;\n",
       "    }\n",
       "\n",
       "    .dataframe tbody tr th {\n",
       "        vertical-align: top;\n",
       "    }\n",
       "\n",
       "    .dataframe thead th {\n",
       "        text-align: right;\n",
       "    }\n",
       "</style>\n",
       "<table border=\"1\" class=\"dataframe\">\n",
       "  <thead>\n",
       "    <tr style=\"text-align: right;\">\n",
       "      <th>col_0</th>\n",
       "      <th>False</th>\n",
       "      <th>True</th>\n",
       "    </tr>\n",
       "    <tr>\n",
       "      <th>heart.attack</th>\n",
       "      <th></th>\n",
       "      <th></th>\n",
       "    </tr>\n",
       "  </thead>\n",
       "  <tbody>\n",
       "    <tr>\n",
       "      <th>0</th>\n",
       "      <td>717</td>\n",
       "      <td>19</td>\n",
       "    </tr>\n",
       "    <tr>\n",
       "      <th>1</th>\n",
       "      <td>16</td>\n",
       "      <td>6</td>\n",
       "    </tr>\n",
       "  </tbody>\n",
       "</table>\n",
       "</div>"
      ],
      "text/plain": [
       "col_0         False  True\n",
       "heart.attack             \n",
       "0               717    19\n",
       "1                16     6"
      ]
     },
     "execution_count": 28,
     "metadata": {},
     "output_type": "execute_result"
    }
   ],
   "source": [
    "# optimize threshold\n",
    "fscore = (2 * precision * recall) / (precision + recall)\n",
    "idx = np.nanargmax(fscore)\n",
    "print(\"Optimized threshold : \",thresholds[idx])\n",
    "y_pred_thresh_sub = (rf_model_sub.predict_proba(X_test_sub)[:,1]> thresholds[idx] ).astype(bool)\n",
    "print(classification_report(y_test,y_pred_thresh_sub))\n",
    "pd.crosstab(y_test,y_pred_thresh_sub)"
   ]
  },
  {
   "cell_type": "code",
   "execution_count": 35,
   "metadata": {},
   "outputs": [
    {
     "data": {
      "image/png": "[encoded data removed]",
      "text/plain": [
       "<Figure size 432x288 with 1 Axes>"
      ]
     },
     "metadata": {},
     "output_type": "display_data"
    }
   ],
   "source": [
    "from sklearn.inspection import permutation_importance\n",
    "# calculate permutation importance of random forest\n",
    "result = permutation_importance(rf_model, X_test, y_test, n_repeats=10,\n",
    "                                random_state=42, n_jobs=2)\n",
    "sorted_idx = result.importances_mean.argsort()\n",
    "\n",
    "fig, ax = plt.subplots()\n",
    "ax.boxplot(result.importances[sorted_idx].T,\n",
    "           vert=False, labels=X_test.columns[sorted_idx])\n",
    "ax.set_title(\"Permutation Importances (test set)\")\n",
    "fig.tight_layout()\n",
    "plt.show()"
   ]
  },
  {
   "cell_type": "code",
   "execution_count": 38,
   "metadata": {},
   "outputs": [
    {
     "ename": "ModuleNotFoundError",
     "evalue": "No module named 'shap'",
     "output_type": "error",
     "traceback": [
      "\u001b[1;31m---------------------------------------------------------------------------\u001b[0m",
      "\u001b[1;31mModuleNotFoundError\u001b[0m                       Traceback (most recent call last)",
      "\u001b[1;32m~\\AppData\\Local\\Temp/ipykernel_13648/95254029.py\u001b[0m in \u001b[0;36m<module>\u001b[1;34m\u001b[0m\n\u001b[1;32m----> 1\u001b[1;33m \u001b[1;32mimport\u001b[0m \u001b[0mshap\u001b[0m\u001b[1;33m\u001b[0m\u001b[1;33m\u001b[0m\u001b[0m\n\u001b[0m\u001b[0;32m      2\u001b[0m \u001b[1;31m# explain the model's predictions using SHAP\u001b[0m\u001b[1;33m\u001b[0m\u001b[1;33m\u001b[0m\u001b[1;33m\u001b[0m\u001b[0m\n\u001b[0;32m      3\u001b[0m \u001b[0mexplainer\u001b[0m \u001b[1;33m=\u001b[0m \u001b[0mshap\u001b[0m\u001b[1;33m.\u001b[0m\u001b[0mExplainer\u001b[0m\u001b[1;33m(\u001b[0m\u001b[0mrf_model\u001b[0m\u001b[1;33m)\u001b[0m\u001b[1;33m\u001b[0m\u001b[1;33m\u001b[0m\u001b[0m\n\u001b[0;32m      4\u001b[0m \u001b[0mshap_values\u001b[0m \u001b[1;33m=\u001b[0m \u001b[0mexplainer\u001b[0m\u001b[1;33m.\u001b[0m\u001b[0mshap_values\u001b[0m\u001b[1;33m(\u001b[0m\u001b[0mX_test\u001b[0m\u001b[1;33m)\u001b[0m\u001b[1;33m\u001b[0m\u001b[1;33m\u001b[0m\u001b[0m\n\u001b[0;32m      5\u001b[0m \u001b[1;33m\u001b[0m\u001b[0m\n",
      "\u001b[1;31mModuleNotFoundError\u001b[0m: No module named 'shap'"
     ]
    }
   ],
   "source": [
    "import shap  \n",
    "# explain the model's predictions using SHAP\n",
    "explainer = shap.Explainer(rf_model)\n",
    "shap_values = explainer.shap_values(X_test)\n",
    "\n",
    "\n",
    "# create shap bar plot for a single instance\n",
    "shap.bar_plot(shap_values= shap_values[1][0], features = X_test.iloc[0], feature_names= X_test.columns)\n",
    "\n",
    "# create shap summary plot\n",
    "shap.summary_plot(shap_values= shap_values[1], features = X_test, feature_names= X_test.columns)"
   ]
  }
 ],
 "metadata": {
  "interpreter": {
   "hash": "374c9e341c213a152a3e1e2ca14b93e354a2791f120306ef1e7d25cd661baf1d"
  },
  "kernelspec": {
   "display_name": "Python 3.7.4 64-bit ('env': venv)",
   "name": "python3"
  },
  "language_info": {
   "codemirror_mode": {
    "name": "ipython",
    "version": 3
   },
   "file_extension": ".py",
   "mimetype": "text/x-python",
   "name": "python",
   "nbconvert_exporter": "python",
   "pygments_lexer": "ipython3",
   "version": "3.7.4"
  },
  "orig_nbformat": 4
 },
 "nbformat": 4,
 "nbformat_minor": 2
}
